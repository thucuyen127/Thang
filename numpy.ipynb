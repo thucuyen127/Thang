{
  "nbformat": 4,
  "nbformat_minor": 0,
  "metadata": {
    "colab": {
      "name": "numpy.ipynb",
      "provenance": [],
      "authorship_tag": "ABX9TyOFBtnLJ6525uGAbqU/npGq",
      "include_colab_link": true
    },
    "kernelspec": {
      "name": "python3",
      "display_name": "Python 3"
    }
  },
  "cells": [
    {
      "cell_type": "markdown",
      "metadata": {
        "id": "view-in-github",
        "colab_type": "text"
      },
      "source": [
        "<a href=\"https://colab.research.google.com/github/thucuyen127/Thang/blob/main/numpy.ipynb\" target=\"_parent\"><img src=\"https://colab.research.google.com/assets/colab-badge.svg\" alt=\"Open In Colab\"/></a>"
      ]
    },
    {
      "cell_type": "code",
      "metadata": {
        "id": "QFKn_-mgNZ50",
        "colab": {
          "base_uri": "https://localhost:8080/"
        },
        "outputId": "70a209e3-38e4-412d-c709-9423f8dda8bd"
      },
      "source": [
        "import numpy as np\r\n",
        "import random\r\n",
        "\r\n",
        "def taomatran(m,n): #Hàm tạo ma trận m hàng n cột\r\n",
        "  a = np.random.randint(-10,10,(m,n))\r\n",
        "  return a\r\n",
        "m=int(input('m = '))\r\n",
        "n=int(input('n = '))\r\n",
        "p=int(input('p = '))\r\n",
        "a = taomatran(m,n)\r\n",
        "b = taomatran(n,p)\r\n",
        "c = taomatran(m,n)\r\n",
        "print('A = \\n',a)\r\n",
        "print('B = \\n',b)\r\n",
        "print('C = \\n',c)\r\n",
        "print('A + C = \\n',a + c)\r\n",
        "print('A - C = \\n',a - c)\r\n",
        "print('A * B = \\n',a @ b)\r\n",
        "print('A / C = \\n',a  @ np.linalg.matrix_power(c, -1))\r\n",
        "print('A * 5 = \\n',a * 5)\r\n",
        "print('A / 5 = \\n',a / 5)\r\n",
        "print('ma tran chuyen vi cua A:\\n',np.transpose(a))\r\n"
      ],
      "execution_count": 39,
      "outputs": [
        {
          "output_type": "stream",
          "text": [
            "m = 3\n",
            "n = 3\n",
            "p = 5\n",
            "A = \n",
            " [[  6  -3 -10]\n",
            " [ -8  -1  -7]\n",
            " [  7   9   1]]\n",
            "B = \n",
            " [[ -5   8   2  -8   6]\n",
            " [  7   0  -8   3   2]\n",
            " [-10   5   7   4  -8]]\n",
            "C = \n",
            " [[-6 -9  2]\n",
            " [ 5  6 -8]\n",
            " [-4 -8 -7]]\n",
            "A + C = \n",
            " [[  0 -12  -8]\n",
            " [ -3   5 -15]\n",
            " [  3   1  -6]]\n",
            "A - C = \n",
            " [[ 12   6 -12]\n",
            " [-13  -7   1]\n",
            " [ 11  17   8]]\n",
            "A * B = \n",
            " [[ 49  -2 -34 -97 110]\n",
            " [103 -99 -57  33   6]\n",
            " [ 18  61 -51 -25  52]]\n",
            "A / C = \n",
            " [[-677. -504.  384.]\n",
            " [ 893.  666. -505.]\n",
            " [-155. -115.   87.]]\n",
            "A * 5 = \n",
            " [[ 30 -15 -50]\n",
            " [-40  -5 -35]\n",
            " [ 35  45   5]]\n",
            "A / 5 = \n",
            " [[ 1.2 -0.6 -2. ]\n",
            " [-1.6 -0.2 -1.4]\n",
            " [ 1.4  1.8  0.2]]\n",
            "ma tran chuyen vi cua A:\n",
            " [[  6  -8   7]\n",
            " [ -3  -1   9]\n",
            " [-10  -7   1]]\n"
          ],
          "name": "stdout"
        }
      ]
    }
  ]
}